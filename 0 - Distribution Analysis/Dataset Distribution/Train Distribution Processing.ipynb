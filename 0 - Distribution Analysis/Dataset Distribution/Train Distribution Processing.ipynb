{
 "cells": [
  {
   "cell_type": "markdown",
   "metadata": {},
   "source": [
    "Leung Wai Liu <br>\n",
    "JPMorgan AI Research <br>\n",
    "August 8, 2022 <br>\n",
    "Twitter Relabelling Train Data Processing "
   ]
  },
  {
   "cell_type": "code",
   "execution_count": 27,
   "metadata": {},
   "outputs": [],
   "source": [
    "from reading_datasets import read_ud_dataset, reading_tb_ner\n",
    "import pandas as pd\n",
    "from collections import Counter\n",
    "import matplotlib.pyplot as plt"
   ]
  },
  {
   "cell_type": "code",
   "execution_count": 21,
   "metadata": {},
   "outputs": [],
   "source": [
    "pos_train = read_ud_dataset(dataset = 'tb', location = '../Datasets/POSTagging/Tweebank/', split = 'train')\n",
    "pos_val = read_ud_dataset(dataset = 'tb', location = '../Datasets/POSTagging/Tweebank/', split = 'dev')\n",
    "pos_test = read_ud_dataset(dataset = 'tb', location = '../Datasets/POSTagging/Tweebank/', split = 'test')\n",
    "ner_train = reading_tb_ner(location = '../Datasets/NER/Tweebank/', split = 'train')\n",
    "ner_val = reading_tb_ner(location = '../Datasets/NER/Tweebank/', split = 'dev')\n",
    "ner_test = reading_tb_ner(location = '../Datasets/NER/Tweebank/', split = 'test')\n",
    "\n",
    "#Getting all the tweets for training dataset\n",
    "combined_dataset_train_ner = []\n",
    "combined_dataset_train_pos = []\n",
    "for i, (tweet, pos_labels) in enumerate(pos_train):\n",
    "    tweet = [token.lower() for token in tweet]\n",
    "    query = ' '.join(tweet)\n",
    "\n",
    "    found = False\n",
    "    for ner_tweet, ner_labels in ner_train:\n",
    "        ner_tweet = [token.lower() for token in ner_tweet]\n",
    "        check = ' '.join(ner_tweet)\n",
    "        if query == check:\n",
    "            found = True\n",
    "            break\n",
    "\n",
    "    if found and tweet == ner_tweet:\n",
    "        combined_dataset_train_ner.append(ner_labels)\n",
    "        combined_dataset_train_pos.append(pos_labels)\n"
   ]
  },
  {
   "cell_type": "code",
   "execution_count": 22,
   "metadata": {},
   "outputs": [],
   "source": [
    "combined_ner_labels_train = []\n",
    "combined_ner_labels_train_no_o = []\n",
    "combined_ner_labels_train_no_bio_and_o = []\n",
    "\n",
    "combined_pos_labels_train = []\n",
    "\n",
    "for ind_list in combined_dataset_train_ner:\n",
    "    for item in ind_list:\n",
    "        combined_ner_labels_train.append(item)\n",
    "        if item != 'O':\n",
    "            combined_ner_labels_train_no_o.append(item)\n",
    "            new_item = item[2:]\n",
    "            combined_ner_labels_train_no_bio_and_o.append(new_item)\n",
    "\n",
    "for ind_list in combined_dataset_train_pos:\n",
    "    for item in ind_list:\n",
    "        combined_pos_labels_train.append(item)"
   ]
  },
  {
   "cell_type": "code",
   "execution_count": 23,
   "metadata": {},
   "outputs": [
    {
     "name": "stdout",
     "output_type": "stream",
     "text": [
      "Counter({'O': 23248, 'B-PER': 358, 'B-ORG': 244, 'B-MISC': 238, 'I-MISC': 224, 'I-PER': 143, 'B-LOC': 136, 'I-ORG': 102, 'I-LOC': 35})\n"
     ]
    }
   ],
   "source": [
    "counter_train_ner_all = Counter(combined_ner_labels_train)\n",
    "print(counter_train_ner_all)"
   ]
  },
  {
   "cell_type": "code",
   "execution_count": 28,
   "metadata": {},
   "outputs": [
    {
     "data": {
      "text/plain": [
       "<BarContainer object of 9 artists>"
      ]
     },
     "execution_count": 28,
     "metadata": {},
     "output_type": "execute_result"
    },
    {
     "data": {
      "image/png": "[encoded data removed]",
      "text/plain": [
       "<Figure size 432x288 with 1 Axes>"
      ]
     },
     "metadata": {
      "needs_background": "light"
     },
     "output_type": "display_data"
    }
   ],
   "source": [
    "plt.bar(counter_train_ner_all.keys(), counter_train_ner_all.values())"
   ]
  },
  {
   "cell_type": "code",
   "execution_count": 24,
   "metadata": {},
   "outputs": [
    {
     "name": "stdout",
     "output_type": "stream",
     "text": [
      "Counter({'B-PER': 358, 'B-ORG': 244, 'B-MISC': 238, 'I-MISC': 224, 'I-PER': 143, 'B-LOC': 136, 'I-ORG': 102, 'I-LOC': 35})\n"
     ]
    }
   ],
   "source": [
    "counter_train_ner_no_o = Counter(combined_ner_labels_train_no_o)\n",
    "print(counter_train_ner_no_o)"
   ]
  },
  {
   "cell_type": "code",
   "execution_count": 29,
   "metadata": {},
   "outputs": [
    {
     "data": {
      "text/plain": [
       "<BarContainer object of 8 artists>"
      ]
     },
     "execution_count": 29,
     "metadata": {},
     "output_type": "execute_result"
    },
    {
     "data": {
      "image/png": "[encoded data removed]",
      "text/plain": [
       "<Figure size 432x288 with 1 Axes>"
      ]
     },
     "metadata": {
      "needs_background": "light"
     },
     "output_type": "display_data"
    }
   ],
   "source": [
    "plt.bar(counter_train_ner_no_o.keys(), counter_train_ner_no_o.values())"
   ]
  },
  {
   "cell_type": "code",
   "execution_count": 25,
   "metadata": {},
   "outputs": [
    {
     "name": "stdout",
     "output_type": "stream",
     "text": [
      "Counter({'PER': 501, 'MISC': 462, 'ORG': 346, 'LOC': 171})\n"
     ]
    }
   ],
   "source": [
    "counter_train_ner_no_bio_and_o = Counter(combined_ner_labels_train_no_bio_and_o)\n",
    "print(counter_train_ner_no_bio_and_o)"
   ]
  },
  {
   "cell_type": "code",
   "execution_count": 30,
   "metadata": {},
   "outputs": [
    {
     "data": {
      "text/plain": [
       "<BarContainer object of 4 artists>"
      ]
     },
     "execution_count": 30,
     "metadata": {},
     "output_type": "execute_result"
    },
    {
     "data": {
      "image/png": "[encoded data removed]",
      "text/plain": [
       "<Figure size 432x288 with 1 Axes>"
      ]
     },
     "metadata": {
      "needs_background": "light"
     },
     "output_type": "display_data"
    }
   ],
   "source": [
    "plt.bar(counter_train_ner_no_bio_and_o.keys(), counter_train_ner_no_bio_and_o.values())"
   ]
  },
  {
   "cell_type": "code",
   "execution_count": 26,
   "metadata": {},
   "outputs": [
    {
     "name": "stdout",
     "output_type": "stream",
     "text": [
      "Counter({'NOUN': 3360, 'PUNCT': 3249, 'VERB': 2625, 'X': 2474, 'PRON': 2314, 'PROPN': 2106, 'ADP': 1565, 'ADJ': 1263, 'AUX': 1225, 'DET': 1109, 'ADV': 1076, 'PART': 540, 'NUM': 407, 'CCONJ': 395, 'SYM': 391, 'INTJ': 389, 'SCONJ': 240})\n"
     ]
    }
   ],
   "source": [
    "counter_train_pos_all = Counter(combined_pos_labels_train)\n",
    "print(counter_train_pos_all)"
   ]
  },
  {
   "cell_type": "code",
   "execution_count": 35,
   "metadata": {},
   "outputs": [
    {
     "data": {
      "image/png": "[encoded data removed]",
      "text/plain": [
       "<Figure size 1080x288 with 1 Axes>"
      ]
     },
     "metadata": {
      "needs_background": "light"
     },
     "output_type": "display_data"
    }
   ],
   "source": [
    "f = plt.figure()\n",
    "f.set_figwidth(15)\n",
    "plt.bar(counter_train_pos_all.keys(), counter_train_pos_all.values())\n",
    "plt.show()\n"
   ]
  },
  {
   "cell_type": "code",
   "execution_count": null,
   "metadata": {},
   "outputs": [],
   "source": []
  }
 ],
 "metadata": {
  "kernelspec": {
   "display_name": "Python 3.6.9 64-bit",
   "language": "python",
   "name": "python3"
  },
  "language_info": {
   "codemirror_mode": {
    "name": "ipython",
    "version": 3
   },
   "file_extension": ".py",
   "mimetype": "text/x-python",
   "name": "python",
   "nbconvert_exporter": "python",
   "pygments_lexer": "ipython3",
   "version": "3.6.9"
  },
  "orig_nbformat": 4,
  "vscode": {
   "interpreter": {
    "hash": "31f2aee4e71d21fbe5cf8b01ff0e069b9275f58929596ceb00d14d90e3e16cd6"
   }
  }
 },
 "nbformat": 4,
 "nbformat_minor": 2
}
